{
  "nbformat": 4,
  "nbformat_minor": 0,
  "metadata": {
    "colab": {
      "provenance": []
    },
    "kernelspec": {
      "name": "python3",
      "display_name": "Python 3"
    },
    "language_info": {
      "name": "python"
    }
  },
  "cells": [
    {
      "cell_type": "markdown",
      "source": [
        "# **111-2 亞洲大學 - 教育大數據跨領域學程**\n",
        "\n",
        "# **人工智慧在教育上的應用【介紹人工智慧】期末作業**\n",
        "\n",
        "### 亞洲大學 資訊工程 109021373@live.asia.edu.tw\n",
        "\n",
        "\n",
        "# **(111-2 Asia University - Interdisciplinary Program on Educational Big Data**\n",
        "\n",
        "# **Application of Artificial Intelligence in Education 【Artificial Intelligence】 final assignment**\n",
        "\n",
        "### Asia University Information Engineering 109021373@live.asia.edu.tw)"
      ],
      "metadata": {
        "id": "vK6Vl56u-rJ1"
      }
    },
    {
      "cell_type": "markdown",
      "source": [
        "# **English introduction**\n",
        "\n",
        "# Artificial Intelligence (AI for short) refers to the field of science and technology that simulates and imitates human intelligence. It aims to develop computer systems and machines that can perform tasks that require intelligence, such as learning, reasoning, judgment, understanding language and visual information, and problem solving.\n",
        "\n",
        "### Artificial intelligence involves multiple subfields and technologies, including Machine Learning, Deep Learning, Expert Systems, Natural Language Processing, Computer Vision, Robotics (Robotics), etc."
      ],
      "metadata": {
        "id": "C93TWvBsF-Mg"
      }
    },
    {
      "cell_type": "markdown",
      "source": [
        "### Machine learning is an important branch of artificial intelligence that is concerned with developing algorithms and models that can learn and improve from data. Machine learning uses a large amount of data by training the model, so that it can automatically learn and extract patterns from experience, so as to achieve the goals of prediction, classification, grouping and optimization."
      ],
      "metadata": {
        "id": "6z8PO1pDBVWy"
      }
    },
    {
      "cell_type": "markdown",
      "source": [
        "### Deep learning is a special branch of machine learning that mimics the structure and function of neural networks in the human brain. A deep learning model is called a neural network, which consists of multiple layers of neurons, weighted by a large amount of training data. This structure enables deep learning models to perform advanced feature extraction and abstraction, and has made major breakthroughs in image recognition, speech recognition, natural language processing and other fields."
      ],
      "metadata": {
        "id": "pc1ylncCBfbB"
      }
    },
    {
      "cell_type": "markdown",
      "source": [
        "### Artificial intelligence has a wide range of applications in many fields. It can assist doctors in diagnosing diseases, predicting disease development, and researching new drugs in healthcare; it can optimize traffic flow and energy conservation and emission reduction in transportation and urban planning; it can perform risk assessment and investment portfolio optimization in the financial field; in natural language processing Voice assistants and machine translation can be realized; automated production and quality control can be realized in manufacturing; precision agriculture and plant disease early warning can be realized in the field of agriculture; personalized learning and intelligent teaching can be provided in the field of education; in the field of security and monitoring Face recognition and monitoring systems can be realized; more real and intelligent gaming experience can be provided in the field of games and entertainment, etc.\n",
        "\n",
        "### However, AI also faces some challenges and ethical considerations. One of the challenges is data quality and privacy issues. Artificial intelligence systems require a large amount of data for training, but data quality and privacy issues may have a negative impact on the results. Another challenge is transparency and interpretability. Deep learning models are often treated as black boxes, making it difficult to explain their inner workings and decision-making processes. This can raise issues of trust and ethics, especially in areas that have a major impact on human life."
      ],
      "metadata": {
        "id": "CIn8RmcgBogt"
      }
    },
    {
      "cell_type": "markdown",
      "source": [
        "### Overall, artificial intelligence is a rapidly developing field with unlimited potential and application prospects. It is changing our way of life, work and social structure, and bringing us more convenience, efficiency and innovation. However, we also need to deal with its challenges carefully to ensure that the development of artificial intelligence is in line with ethical and social values, and benefits the entire human society."
      ],
      "metadata": {
        "id": "5Uedb_8wB_I-"
      }
    },
    {
      "cell_type": "markdown",
      "source": [
        "# 中文介紹"
      ],
      "metadata": {
        "id": "ZpCjUx_lCgok"
      }
    },
    {
      "cell_type": "markdown",
      "source": [
        "### 人工智慧（Artificial Intelligence，縮寫為AI）是指模擬和模仿人類智慧的科技領域。它旨在開發電腦系統和機器，使其能夠執行需要智慧的任務，如學習、推理、判斷、理解語言和視覺資訊、解決問題等。\n",
        "\n",
        "### 人工智慧涉及多個子領域和技術，包括機器學習（Machine Learning）、深度學習（Deep Learning）、專家系統（Expert Systems）、自然語言處理（Natural Language Processing）、計算機視覺（Computer Vision）、機器人學（Robotics）等。"
      ],
      "metadata": {
        "id": "C3M1fNbtAQ82"
      }
    },
    {
      "cell_type": "markdown",
      "source": [
        "### 機器學習是人工智慧的一個重要分支，它關注開發可以從數據中學習和改進的算法和模型。機器學習通過訓練模型使用大量的數據，使其能夠自動從經驗中學習和提取模式，從而達到預測、分類、分群和優化等目標。"
      ],
      "metadata": {
        "id": "yWLbdm9LAf3i"
      }
    },
    {
      "cell_type": "markdown",
      "source": [
        "### 深度學習是機器學習的一個特殊分支，它模仿人腦神經網絡的結構和功能。深度學習模型稱為神經網絡，它由多個神經元層次組成，並通過大量的訓練數據進行權重調整。這種結構使得深度學習模型能夠進行高級的特徵提取和抽象，並在圖像識別、語音識別、自然語言處理等領域取得了重大突破。"
      ],
      "metadata": {
        "id": "08RDTcuoAijM"
      }
    },
    {
      "cell_type": "markdown",
      "source": [
        "### 人工智慧在眾多領域具有廣泛應用。它在醫療保健中可以協助醫生診斷疾病、預測病情發展和研究新藥；在交通和城市規劃中可以優化交通流量和節能減排；在金融領域可以進行風險評估和投資組合優化；在自然語言處理中可以實現語音助手和機器翻譯；在製造業中可以實現自動化生產和質量控制；在農業領域可以實現精準農業和植物疾病預警；在教育領域可以提供個性化的學習和智能教學；在安全和監控領域可以實現人臉識別和監控系統；在遊戲和娛樂領域可以提供更真實和智能的遊戲體驗等。\n",
        "\n",
        "### 然而，人工智慧也面臨一些挑戰和倫理考慮。其中一個挑戰是數據的質量和隱私問題，人工智慧系統需要大量的數據進行訓練，但數據的品質和隱私問題可能對結果產生負面影響。另一個挑戰是透明度和可解釋性，深度學習模型通常被視為黑箱，難以解釋其內部運作和決策過程。這可能引發信任和道德問題，特別是在對人類生活產生重大影響的領域。"
      ],
      "metadata": {
        "id": "qqKV0Ygu_Q_W"
      }
    },
    {
      "cell_type": "markdown",
      "source": [
        "### 總體而言，人工智慧是一個快速發展的領域，具有無限的潛力和應用前景。它正在改變我們的生活方式、工作方式和社會結構，並為我們帶來更多便利、效率和創新。然而，我們也需要謹慎應對其挑戰，確保人工智慧的發展符合道德和社會價值，並造福整個人類社會。"
      ],
      "metadata": {
        "id": "35hqyjJtAxtH"
      }
    },
    {
      "cell_type": "markdown",
      "source": [
        "# AIE - 用 Colab 學 Python 語言 (AIE - Learn Python language with Colab)\n",
        "# 學習人工智慧最重要的是需要先有 Python 語言的基礎，以下介紹基礎的 Python 語言 (The most important thing to learn artificial intelligence is to have the foundation of Python language. The following introduces the basic Python language)\n",
        "\n",
        "https://www.w3schools.com/python/"
      ],
      "metadata": {
        "id": "3MbXEJV9H_8i"
      }
    },
    {
      "cell_type": "markdown",
      "source": [
        "## Python & Colab 介紹\n",
        "Python (https://www.python.org/) is a scripting language, which means that a single line of instructions can be executed.\n",
        "\n",
        "Google Colab (https://colab.research.google.com/) provides the easiest way to write and execute the Python programming language. Each of the following code cells can be executed independently. For larger programs, the program can be executed across blocks.\n",
        "\n",
        "Python is an easy-to-learn, powerful programming language. In this course, we will introduce the basic syntax of Python (variables, operations, process control and data structure), etc., so that students can use it as the basis for learning advanced data science or deep learning courses in the future.\n",
        "\n",
        "Completing the first program is very simple. In all programming languages, the first program is called the Hello program. Python's Hello program is super simple, which is the following line:\n",
        "\n",
        "```\n",
        "print('Hello World')\n",
        "```\n",
        "\n"
      ],
      "metadata": {
        "id": "52sOf_9GJDMX"
      }
    },
    {
      "cell_type": "code",
      "source": [
        "# 把 Hello World 程式貼在這個下面，然後按左側的執行鍵或(Ctrl+Enter鍵)....\n",
        "print('Hello World')"
      ],
      "metadata": {
        "colab": {
          "base_uri": "https://localhost:8080/"
        },
        "id": "mwlUYj27JiiF",
        "outputId": "69bc2bc2-aaea-4658-c34d-1ca58b588b0b"
      },
      "execution_count": null,
      "outputs": [
        {
          "output_type": "stream",
          "name": "stdout",
          "text": [
            "Hello World\n"
          ]
        }
      ]
    },
    {
      "cell_type": "code",
      "source": [
        "print('亞洲大學 教育大數據 - 跨領域學程')"
      ],
      "metadata": {
        "colab": {
          "base_uri": "https://localhost:8080/"
        },
        "id": "fBM1nAGdJTMU",
        "outputId": "dbaa499f-11d3-49d8-8ede-b2f666cd9055"
      },
      "execution_count": null,
      "outputs": [
        {
          "output_type": "stream",
          "name": "stdout",
          "text": [
            "亞洲大學 教育大數據 - 跨領域學程\n"
          ]
        }
      ]
    },
    {
      "cell_type": "code",
      "source": [
        "print('111-2 人工智慧在教育上的應用介紹【介紹人工智慧】')"
      ],
      "metadata": {
        "colab": {
          "base_uri": "https://localhost:8080/"
        },
        "id": "cXfNQfkAJ1Ti",
        "outputId": "5d0e385d-a61a-46a0-f01b-5d33771a40a1"
      },
      "execution_count": null,
      "outputs": [
        {
          "output_type": "stream",
          "name": "stdout",
          "text": [
            "111-2 人工智慧在教育上的應用介紹【介紹人工智慧】\n"
          ]
        }
      ]
    },
    {
      "cell_type": "code",
      "source": [
        "a = [33, 44, 92, 58]"
      ],
      "metadata": {
        "id": "7RmLQfePJeSP"
      },
      "execution_count": null,
      "outputs": []
    },
    {
      "cell_type": "markdown",
      "source": [
        "在上面程式，使用了一個函數print()，print會合併其輸入的參數，然後，輸出一行的文字。\n",
        "\n",
        "下面我們有各種Hello World程式的變型。可觀察其不同。"
      ],
      "metadata": {
        "id": "R6O-QsKHKLz_"
      }
    },
    {
      "cell_type": "markdown",
      "source": [
        "## Python variables and operations \n",
        "\n",
        "![image](https://i.ibb.co/vQ5ngXy/IPO-1.png)"
      ],
      "metadata": {
        "id": "DG6DYFQMKUnN"
      }
    },
    {
      "cell_type": "markdown",
      "source": [
        "Python uses the input() function to read input data.\n",
        "\n",
        "A single call to the input() function will input a string.\n",
        " \n",
        "If we were to enter an integer or float. You can use the int() or float() functions函數"
      ],
      "metadata": {
        "id": "2hu_F9gkKbxq"
      }
    },
    {
      "cell_type": "code",
      "source": [
        "instr = input('Please input your score：')\n",
        "score = int(instr) #Integer\n",
        "print(score) # print the value of the variable\n",
        "print(type(score)) # print the type of the variable"
      ],
      "metadata": {
        "colab": {
          "base_uri": "https://localhost:8080/"
        },
        "id": "8KLAhlFIKZJ2",
        "outputId": "f48c7784-629d-42e1-ca07-0c6b6a44d20a"
      },
      "execution_count": null,
      "outputs": [
        {
          "output_type": "stream",
          "name": "stdout",
          "text": [
            "Please input your score：100\n",
            "100\n",
            "<class 'int'>\n"
          ]
        }
      ]
    },
    {
      "cell_type": "markdown",
      "source": [
        "Arithmetic Operators and Expressions\n",
        "Arithmetic Operators\n",
        "````\n",
        "+ - * / #Add, subtract, multiply and divide\n",
        "** #power\n",
        "// #business\n",
        "%  #remainder\n",
        "````"
      ],
      "metadata": {
        "id": "WAOB0dC6KkMK"
      }
    },
    {
      "cell_type": "code",
      "source": [
        "print(1 + 2)\n",
        "print(3 - 4)\n",
        "print(5 * 6)\n",
        "print(12 / 5)"
      ],
      "metadata": {
        "colab": {
          "base_uri": "https://localhost:8080/"
        },
        "id": "jU8IPBwiKlrx",
        "outputId": "9ec36b15-44ae-4f53-f898-847aa1200e60"
      },
      "execution_count": null,
      "outputs": [
        {
          "output_type": "stream",
          "name": "stdout",
          "text": [
            "3\n",
            "-1\n",
            "30\n",
            "2.4\n"
          ]
        }
      ]
    },
    {
      "cell_type": "code",
      "source": [
        "print(23 / 5)\n",
        "print(23 // 5)\n",
        "print(23 % 5)"
      ],
      "metadata": {
        "colab": {
          "base_uri": "https://localhost:8080/"
        },
        "id": "lxtkujklKoFY",
        "outputId": "83316bfd-22b1-49ee-d4e9-2d105dce7c60"
      },
      "execution_count": null,
      "outputs": [
        {
          "output_type": "stream",
          "name": "stdout",
          "text": [
            "4.6\n",
            "4\n",
            "3\n"
          ]
        }
      ]
    },
    {
      "cell_type": "code",
      "source": [
        "print(23 * 2)\n",
        "print(23 ** 2)"
      ],
      "metadata": {
        "colab": {
          "base_uri": "https://localhost:8080/"
        },
        "id": "NSN1sBFkKrDS",
        "outputId": "730bb158-695a-45bb-b9ce-922207d07b80"
      },
      "execution_count": null,
      "outputs": [
        {
          "output_type": "stream",
          "name": "stdout",
          "text": [
            "46\n",
            "529\n"
          ]
        }
      ]
    },
    {
      "cell_type": "markdown",
      "source": [
        "## Atandard math library \n",
        "* Calculate pi and sin($\\pi/3$) functions\n",
        "* use import and as"
      ],
      "metadata": {
        "id": "7R3awrQjKwHS"
      }
    },
    {
      "cell_type": "code",
      "source": [
        "pi = 3.14159\n",
        "sin = (pi/3)\n",
        "print(sin)"
      ],
      "metadata": {
        "colab": {
          "base_uri": "https://localhost:8080/"
        },
        "id": "QzlooT7GKwuB",
        "outputId": "43bc4dc9-508c-41a4-e309-213d60ba43ff"
      },
      "execution_count": null,
      "outputs": [
        {
          "output_type": "stream",
          "name": "stdout",
          "text": [
            "1.0471966666666666\n"
          ]
        }
      ]
    },
    {
      "cell_type": "code",
      "source": [
        "import math\n",
        "print(math.pi)\n",
        "print(math.sin(math.pi/3))"
      ],
      "metadata": {
        "colab": {
          "base_uri": "https://localhost:8080/"
        },
        "id": "P67e_V-LKw5B",
        "outputId": "87306153-da33-4361-db83-94970b4f2eaf"
      },
      "execution_count": null,
      "outputs": [
        {
          "output_type": "stream",
          "name": "stdout",
          "text": [
            "3.141592653589793\n",
            "0.8660254037844386\n"
          ]
        }
      ]
    },
    {
      "cell_type": "code",
      "source": [
        "import math as m\n",
        "print(m.pi)\n",
        "print(m.sin(m.pi/3))"
      ],
      "metadata": {
        "colab": {
          "base_uri": "https://localhost:8080/"
        },
        "id": "0Y_MXRQxLCck",
        "outputId": "a6c8ff4f-19b8-42c6-a674-fb58b830886f"
      },
      "execution_count": null,
      "outputs": [
        {
          "output_type": "stream",
          "name": "stdout",
          "text": [
            "3.141592653589793\n",
            "0.8660254037844386\n"
          ]
        }
      ]
    },
    {
      "cell_type": "code",
      "source": [
        "import math as m\n",
        "print(m.degrees((math.pi/3)))\n",
        "print(m.radians(60))"
      ],
      "metadata": {
        "colab": {
          "base_uri": "https://localhost:8080/"
        },
        "id": "FuGC53YjLEJ3",
        "outputId": "d694ea90-25bd-49bc-876b-4b6fda1d2b9c"
      },
      "execution_count": null,
      "outputs": [
        {
          "output_type": "stream",
          "name": "stdout",
          "text": [
            "59.99999999999999\n",
            "1.0471975511965976\n"
          ]
        }
      ]
    },
    {
      "cell_type": "markdown",
      "source": [
        "## Python basic data structure and simple flow control\n",
        "\n",
        "![image](https://i.ibb.co/M1XgBz2/IPO-2.png)\n",
        "\n",
        "There are three types of parentheses in the Python language,\n",
        "The parentheses () represent the tuple data type, the square brackets [ ] represent the list data type, and the curly brackets { } represent the dictionary (dict) or set (set) data type. Here, we first introduce the most common data type series (List)…\n",
        "\n",
        "\n",
        "<img src=\"https://i1.faceprep.in/Companies-1/lists-in-python.png\" alt=\"img\" border=\"0\" width=\"500\">\n",
        "\n"
      ],
      "metadata": {
        "id": "1BLkBJdoLHpf"
      }
    },
    {
      "cell_type": "code",
      "source": [
        "student0 = 'John'; student1 = 'Mary'; student2 = 'Ken'\n",
        "print('Hello', student0)\n",
        "print('Hello', student1)\n",
        "print('Hello', student2)"
      ],
      "metadata": {
        "colab": {
          "base_uri": "https://localhost:8080/"
        },
        "id": "mPe0GPjwLISf",
        "outputId": "d54a4b9a-4934-4a8c-ec69-2654ed8c5343"
      },
      "execution_count": null,
      "outputs": [
        {
          "output_type": "stream",
          "name": "stdout",
          "text": [
            "Hello John\n",
            "Hello Mary\n",
            "Hello Ken\n"
          ]
        }
      ]
    },
    {
      "cell_type": "code",
      "source": [
        "# positive   0    1    2\n",
        "# negative  -3    -2   -1\n",
        "students = ['John', 'Mary', 'Ken']\n",
        "print('Hello', students[0])\n",
        "print('Hello', students[1])\n",
        "print('Hello', students[2])"
      ],
      "metadata": {
        "colab": {
          "base_uri": "https://localhost:8080/"
        },
        "id": "ZkaZNpAZLLBI",
        "outputId": "cf568141-8ea2-4075-83e1-c6665f86cbfe"
      },
      "execution_count": null,
      "outputs": [
        {
          "output_type": "stream",
          "name": "stdout",
          "text": [
            "Hello John\n",
            "Hello Mary\n",
            "Hello Ken\n"
          ]
        }
      ]
    },
    {
      "cell_type": "code",
      "source": [
        "print('Hello', students[-3])\n",
        "print('Hello', students[-2])\n",
        "print('Hello', students[-1])"
      ],
      "metadata": {
        "colab": {
          "base_uri": "https://localhost:8080/"
        },
        "id": "7kNIZP3XLN1r",
        "outputId": "3f1a2512-7f3a-4976-9e42-b027eee36681"
      },
      "execution_count": null,
      "outputs": [
        {
          "output_type": "stream",
          "name": "stdout",
          "text": [
            "Hello John\n",
            "Hello Mary\n",
            "Hello Ken\n"
          ]
        }
      ]
    },
    {
      "cell_type": "code",
      "source": [
        "students.append('Lily')\n",
        "print(students)\n",
        "print(len(students))"
      ],
      "metadata": {
        "colab": {
          "base_uri": "https://localhost:8080/"
        },
        "id": "F0KBKNLKLPe5",
        "outputId": "e59e8b2c-feb8-42dc-acc5-ecf28d404831"
      },
      "execution_count": null,
      "outputs": [
        {
          "output_type": "stream",
          "name": "stdout",
          "text": [
            "['John', 'Mary', 'Ken', 'Lily']\n",
            "4\n"
          ]
        }
      ]
    },
    {
      "cell_type": "markdown",
      "source": [
        "## String\n",
        "\n",
        "* A string can be thought of as a list of characters that are concatenated together.\n",
        "* Use + to connect strings\n",
        "* Use split() to split the substring"
      ],
      "metadata": {
        "id": "xLgSxfbHLRks"
      }
    },
    {
      "cell_type": "code",
      "source": [
        "print('Hello '+'World!')\n",
        "print(\"Hello\", end=\" \");  print(\"World!\")"
      ],
      "metadata": {
        "colab": {
          "base_uri": "https://localhost:8080/"
        },
        "id": "-7VksPUiLSH9",
        "outputId": "8aae546e-71ad-4de8-baaa-b18777abcaf0"
      },
      "execution_count": null,
      "outputs": [
        {
          "output_type": "stream",
          "name": "stdout",
          "text": [
            "Hello World!\n",
            "Hello World!\n"
          ]
        }
      ]
    },
    {
      "cell_type": "code",
      "source": [
        "# input 3 5 \n",
        "paras = input().split()\n",
        "a = int(paras[0])\n",
        "b = int(paras[1])\n",
        "print(a + b)"
      ],
      "metadata": {
        "colab": {
          "base_uri": "https://localhost:8080/"
        },
        "id": "gPy6VGoJLU1x",
        "outputId": "a13201dc-286d-4940-b409-7c368496c133"
      },
      "execution_count": null,
      "outputs": [
        {
          "output_type": "stream",
          "name": "stdout",
          "text": [
            "3 5\n",
            "8\n"
          ]
        }
      ]
    },
    {
      "cell_type": "markdown",
      "source": [
        "## For-loop\n",
        "* use loop on list variable\n",
        "* Use loop for range() function\n",
        "\n",
        "<img src=\"https://i.ibb.co/fqwHZzr/forloop.jpg\" alt=\"forloop\" border=\"0\">"
      ],
      "metadata": {
        "id": "UGCB4ZuzLXP5"
      }
    },
    {
      "cell_type": "code",
      "source": [
        "numbers = [1, 2, 3, 4, 5, 6, 7, 8, 9]\n",
        "for number in numbers:\n",
        "  print(number, end=' ')"
      ],
      "metadata": {
        "colab": {
          "base_uri": "https://localhost:8080/"
        },
        "id": "q35JkA2dLZLq",
        "outputId": "8b4c5e3b-17d4-4b6c-c56b-87779c5ce6a6"
      },
      "execution_count": null,
      "outputs": [
        {
          "output_type": "stream",
          "name": "stdout",
          "text": [
            "1 2 3 4 5 6 7 8 9 "
          ]
        }
      ]
    },
    {
      "cell_type": "code",
      "source": [
        "for number in range(1, 10, 1):\n",
        "  print(number, end=' ')"
      ],
      "metadata": {
        "colab": {
          "base_uri": "https://localhost:8080/"
        },
        "id": "XktR6GUcLbn6",
        "outputId": "4fd71b19-9bb9-43af-a521-e79fc619af78"
      },
      "execution_count": null,
      "outputs": [
        {
          "output_type": "stream",
          "name": "stdout",
          "text": [
            "1 2 3 4 5 6 7 8 9 "
          ]
        }
      ]
    },
    {
      "cell_type": "markdown",
      "source": [
        "## If condition statement\n",
        "<img src=\"https://i.ibb.co/sv727Wq/if-condition.png\" alt=\"alt text\" width=\"500\">"
      ],
      "metadata": {
        "id": "OwfNOAs9LemN"
      }
    },
    {
      "cell_type": "code",
      "source": [
        "print(True) \n",
        "print(False) "
      ],
      "metadata": {
        "colab": {
          "base_uri": "https://localhost:8080/"
        },
        "id": "u1cI78lCLfX_",
        "outputId": "cf372dee-59c3-4076-fa96-94cad76c60bc"
      },
      "execution_count": null,
      "outputs": [
        {
          "output_type": "stream",
          "name": "stdout",
          "text": [
            "True\n",
            "False\n"
          ]
        }
      ]
    },
    {
      "cell_type": "code",
      "source": [
        "bmi = float(input(\"Input yout bmi\"))\n",
        "if bmi>30.0:\n",
        "  print(\"Obesity\")"
      ],
      "metadata": {
        "colab": {
          "base_uri": "https://localhost:8080/"
        },
        "id": "QRO8xQATLi61",
        "outputId": "c2959ef1-0c6f-4d5e-bdc8-1bdd72895dba"
      },
      "execution_count": null,
      "outputs": [
        {
          "output_type": "stream",
          "name": "stdout",
          "text": [
            "Input yout bmi31\n",
            "Obesity\n"
          ]
        }
      ]
    },
    {
      "cell_type": "code",
      "source": [
        "bmi = float(input(\"Input yout bmi\"))\n",
        "if bmi>24.0:\n",
        "  print(\"Overweight\")\n",
        "elif bmi<18.5:\n",
        "  print(\"Underweight\")\n",
        "else:\n",
        "  print(\"Healthy weight\")"
      ],
      "metadata": {
        "colab": {
          "base_uri": "https://localhost:8080/"
        },
        "id": "tYEnRQhSLlkS",
        "outputId": "94a125f3-f9f2-4672-9b21-4a174604384f"
      },
      "execution_count": null,
      "outputs": [
        {
          "output_type": "stream",
          "name": "stdout",
          "text": [
            "Input yout bmi24\n",
            "Healthy weight\n"
          ]
        }
      ]
    },
    {
      "cell_type": "markdown",
      "source": [
        "## String fotmatting\n",
        "https://docs.python.org/3/tutorial/inputoutput.html"
      ],
      "metadata": {
        "id": "OBVpt0TULpaS"
      }
    },
    {
      "cell_type": "code",
      "source": [
        "a = 'John'\n",
        "str2 = f'Hi, {a}'\n",
        "print(str2)"
      ],
      "metadata": {
        "colab": {
          "base_uri": "https://localhost:8080/"
        },
        "id": "JUiNVpw1LpIq",
        "outputId": "41336b5a-3a1d-4468-9cc4-6fd27f655937"
      },
      "execution_count": null,
      "outputs": [
        {
          "output_type": "stream",
          "name": "stdout",
          "text": [
            "Hi, John\n"
          ]
        }
      ]
    },
    {
      "cell_type": "code",
      "source": [
        "yes_votes = 42_572_654\n",
        "no_votes = 43_132_495\n",
        "percentage = yes_votes / (yes_votes + no_votes)\n",
        "print(f'{yes_votes:9} YES votes {percentage:2.2%}')"
      ],
      "metadata": {
        "colab": {
          "base_uri": "https://localhost:8080/"
        },
        "id": "z0pAiGoMLsc9",
        "outputId": "079c1aff-17a5-469b-9854-f73e2f66fea5"
      },
      "execution_count": null,
      "outputs": [
        {
          "output_type": "stream",
          "name": "stdout",
          "text": [
            " 42572654 YES votes 49.67%\n"
          ]
        }
      ]
    },
    {
      "cell_type": "markdown",
      "source": [
        "## Function definition and call"
      ],
      "metadata": {
        "id": "7ntCAJYHLyK9"
      }
    },
    {
      "cell_type": "code",
      "source": [
        "a=240; b=96\n",
        "r=a%b\n",
        "while r!=0:\n",
        "  a=b;b=r\n",
        "  r=a%b\n",
        "print(f\"gcd={b}\")"
      ],
      "metadata": {
        "colab": {
          "base_uri": "https://localhost:8080/"
        },
        "id": "PpL2cPwFLysT",
        "outputId": "452224c2-7719-4b97-8338-e00591139f29"
      },
      "execution_count": null,
      "outputs": [
        {
          "output_type": "stream",
          "name": "stdout",
          "text": [
            "gcd=48\n"
          ]
        }
      ]
    },
    {
      "cell_type": "code",
      "source": [
        "def gcd(x, y):\n",
        "  r=x%y\n",
        "  while r!=0:\n",
        "    x=y;y=r\n",
        "    r=x%y\n",
        "  return y"
      ],
      "metadata": {
        "id": "TGy8DvR_L5-a"
      },
      "execution_count": null,
      "outputs": []
    },
    {
      "cell_type": "code",
      "source": [
        "a=240; b=96\n",
        "print(f\"{a}, {b}, {gcd(a,b)}\")"
      ],
      "metadata": {
        "colab": {
          "base_uri": "https://localhost:8080/"
        },
        "id": "vMxlOtSzL6Bx",
        "outputId": "ad05496f-2292-45fc-bfa1-a79cdb170bde"
      },
      "execution_count": null,
      "outputs": [
        {
          "output_type": "stream",
          "name": "stdout",
          "text": [
            "240, 96, 48\n"
          ]
        }
      ]
    },
    {
      "cell_type": "markdown",
      "source": [
        "## Exercise : print out the multiplication table\n",
        "<img src=\"https://previews.123rf.com/images/in8finity/in8finity1408/in8finity140800033/30726191-multiplication-table-on-white-background.jpg\" alt=\"img\" border=\"0\" width=\"500\">\n"
      ],
      "metadata": {
        "id": "PQxX4duyL9-t"
      }
    },
    {
      "cell_type": "code",
      "source": [
        "# Using 2 layers of loops, print out the multiplication table of 99/print out the multiplication table\n",
        "# start writing here\n",
        "for i in range(1, 10):\n",
        "    for j in range(1, 10):\n",
        "        result = i * j\n",
        "        print(f\"{i} x {j} = {result}\")\n",
        "    print()"
      ],
      "metadata": {
        "colab": {
          "base_uri": "https://localhost:8080/"
        },
        "id": "NIXWOYeJL-nA",
        "outputId": "96a6cb2a-27f7-4015-cd8a-7f68f24021ee"
      },
      "execution_count": null,
      "outputs": [
        {
          "output_type": "stream",
          "name": "stdout",
          "text": [
            "1 x 1 = 1\n",
            "1 x 2 = 2\n",
            "1 x 3 = 3\n",
            "1 x 4 = 4\n",
            "1 x 5 = 5\n",
            "1 x 6 = 6\n",
            "1 x 7 = 7\n",
            "1 x 8 = 8\n",
            "1 x 9 = 9\n",
            "\n",
            "2 x 1 = 2\n",
            "2 x 2 = 4\n",
            "2 x 3 = 6\n",
            "2 x 4 = 8\n",
            "2 x 5 = 10\n",
            "2 x 6 = 12\n",
            "2 x 7 = 14\n",
            "2 x 8 = 16\n",
            "2 x 9 = 18\n",
            "\n",
            "3 x 1 = 3\n",
            "3 x 2 = 6\n",
            "3 x 3 = 9\n",
            "3 x 4 = 12\n",
            "3 x 5 = 15\n",
            "3 x 6 = 18\n",
            "3 x 7 = 21\n",
            "3 x 8 = 24\n",
            "3 x 9 = 27\n",
            "\n",
            "4 x 1 = 4\n",
            "4 x 2 = 8\n",
            "4 x 3 = 12\n",
            "4 x 4 = 16\n",
            "4 x 5 = 20\n",
            "4 x 6 = 24\n",
            "4 x 7 = 28\n",
            "4 x 8 = 32\n",
            "4 x 9 = 36\n",
            "\n",
            "5 x 1 = 5\n",
            "5 x 2 = 10\n",
            "5 x 3 = 15\n",
            "5 x 4 = 20\n",
            "5 x 5 = 25\n",
            "5 x 6 = 30\n",
            "5 x 7 = 35\n",
            "5 x 8 = 40\n",
            "5 x 9 = 45\n",
            "\n",
            "6 x 1 = 6\n",
            "6 x 2 = 12\n",
            "6 x 3 = 18\n",
            "6 x 4 = 24\n",
            "6 x 5 = 30\n",
            "6 x 6 = 36\n",
            "6 x 7 = 42\n",
            "6 x 8 = 48\n",
            "6 x 9 = 54\n",
            "\n",
            "7 x 1 = 7\n",
            "7 x 2 = 14\n",
            "7 x 3 = 21\n",
            "7 x 4 = 28\n",
            "7 x 5 = 35\n",
            "7 x 6 = 42\n",
            "7 x 7 = 49\n",
            "7 x 8 = 56\n",
            "7 x 9 = 63\n",
            "\n",
            "8 x 1 = 8\n",
            "8 x 2 = 16\n",
            "8 x 3 = 24\n",
            "8 x 4 = 32\n",
            "8 x 5 = 40\n",
            "8 x 6 = 48\n",
            "8 x 7 = 56\n",
            "8 x 8 = 64\n",
            "8 x 9 = 72\n",
            "\n",
            "9 x 1 = 9\n",
            "9 x 2 = 18\n",
            "9 x 3 = 27\n",
            "9 x 4 = 36\n",
            "9 x 5 = 45\n",
            "9 x 6 = 54\n",
            "9 x 7 = 63\n",
            "9 x 8 = 72\n",
            "9 x 9 = 81\n",
            "\n"
          ]
        }
      ]
    },
    {
      "cell_type": "code",
      "source": [
        "print('謝謝觀看，介紹人工智慧的作業~')"
      ],
      "metadata": {
        "colab": {
          "base_uri": "https://localhost:8080/"
        },
        "id": "RTVDYvE6MBnL",
        "outputId": "18b7ffe4-370b-4223-8cad-109e6f5be735"
      },
      "execution_count": null,
      "outputs": [
        {
          "output_type": "stream",
          "name": "stdout",
          "text": [
            "謝謝觀看，介紹人工智慧的作業~\n"
          ]
        }
      ]
    }
  ]
}